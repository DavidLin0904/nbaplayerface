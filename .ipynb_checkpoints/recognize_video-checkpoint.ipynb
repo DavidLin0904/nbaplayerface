{
 "cells": [
  {
   "cell_type": "code",
   "execution_count": 1,
   "id": "a4447f73",
   "metadata": {},
   "outputs": [],
   "source": [
    "import time\n",
    "from os.path import exists\n",
    "import cv2\n",
    "import numpy as np\n",
    "from imutils.video import WebcamVideoStream\n",
    "from urllib.request import urlretrieve\n",
    "import numpy as np\n",
    "import imutils\n",
    "import pickle\n",
    "import os"
   ]
  },
  {
   "cell_type": "code",
   "execution_count": 2,
   "id": "7642afa0",
   "metadata": {},
   "outputs": [
    {
     "name": "stdout",
     "output_type": "stream",
     "text": [
      "[INFO] loading face detector...\n"
     ]
    }
   ],
   "source": [
    "print(\"[INFO] loading face detector...\")\n",
    "protoPath = os.path.sep.join([\"face_detection_model\", \"deploy.prototxt\"])\n",
    "modelPath = os.path.sep.join([\"face_detection_model\", \"res10_300x300_ssd_iter_140000.caffemodel\"])\n",
    "detector = cv2.dnn.readNetFromCaffe(protoPath, modelPath)"
   ]
  },
  {
   "cell_type": "code",
   "execution_count": 3,
   "id": "031a11eb",
   "metadata": {},
   "outputs": [],
   "source": [
    "if not exists(protoPath) or not exists(modelPath):\n",
    "    urlretrieve(\n",
    "        f\"https://raw.githubusercontent.com/opencv/opencv/master/samples/dnn/face_detector/{prototxt}\",\n",
    "        prototxt)\n",
    "    urlretrieve(\n",
    "        f\"https://raw.githubusercontent.com/opencv/opencv_3rdparty/dnn_samples_face_detector_20170830/{caffemodel}\",\n",
    "        caffemodel)"
   ]
  },
  {
   "cell_type": "code",
   "execution_count": 4,
   "id": "71d4e66a",
   "metadata": {},
   "outputs": [
    {
     "name": "stdout",
     "output_type": "stream",
     "text": [
      "[INFO] loading face recognizer...\n"
     ]
    }
   ],
   "source": [
    "def load_net():\n",
    "    print(\"[INFO] loading face recognizer...\")\n",
    "    embedder = cv2.dnn.readNetFromTorch(\"openface_nn4.small2.v1.t7\")\n",
    "    return embedder\n",
    "embedder = load_net()"
   ]
  },
  {
   "cell_type": "code",
   "execution_count": 5,
   "id": "cc459a5f",
   "metadata": {},
   "outputs": [],
   "source": [
    "def load_labels():\n",
    "    recognizer = pickle.loads(open(\"output/recognizer.pickle\", \"rb\").read())\n",
    "    le = pickle.loads(open(\"output/le.pickle\", \"rb\").read())\n",
    "    return le, recognizer\n",
    "le, recognizer = load_labels()"
   ]
  },
  {
   "cell_type": "code",
   "execution_count": 51,
   "id": "4c24853e",
   "metadata": {},
   "outputs": [],
   "source": [
    "def detect(img, min_confidence=0.5):\n",
    "    # 取得img的大小(高，寬)\n",
    "    (h, w) = img.shape[:2]\n",
    "#     img = imutils.resize(img, width=600)\n",
    "    # 建立模型使用的Input資料blob (比例變更為300 x 300)\n",
    "    blob = cv2.dnn.blobFromImage(cv2.resize(img, (300, 300)), 1.0, (300, 300), (104.0, 177.0, 123.0))\n",
    "\n",
    "    # 設定Input資料與取得模型預測結果\n",
    "    detector.setInput(blob)\n",
    "    detections = detector.forward()\n",
    "\n",
    "    # 初始化結果\n",
    "    rects = []\n",
    "        \n",
    "    # loop所有預測結果\n",
    "    for i in range(0, detections.shape[2]):\n",
    "        confidence = detections[0, 0, i, 2]\n",
    "        if confidence > min_confidence:\n",
    "            box = detections[0, 0, i, 3:7] * np.array([w, h, w, h])\n",
    "            (startX, startY, endX, endY) = box.astype(\"int\")\n",
    "            \n",
    "            face = img[startY:endY, startX:endX]\n",
    "            (fH, fW) = face.shape[:2]\n",
    "\n",
    "            if fW < 20 or fH < 20:\n",
    "                continue\n",
    "\n",
    "            faceBlob = cv2.dnn.blobFromImage(face, 1.0 / 255, (96, 96),\n",
    "                (0, 0, 0), swapRB=True, crop=False)\n",
    "            embedder.setInput(faceBlob)\n",
    "            vec = embedder.forward()\n",
    "\n",
    "            preds = recognizer.predict_proba(vec)[0]\n",
    "            j = np.argmax(preds)\n",
    "            proba = preds[j]\n",
    "            name = le.classes_[j]\n",
    "\n",
    "            text = \"{}: {:.2f}%\".format(name, confidence * 100)\n",
    "            y = startY - 10 if startY - 10 > 10 else startY + 10\n",
    "            cv2.rectangle(img, (startX, startY), (endX, endY),\n",
    "                (0, 255, 0), 2)\n",
    "            cv2.putText(img, text, (startX, y),\n",
    "                cv2.FONT_HERSHEY_SIMPLEX, 0.45, (0, 255, 0), 2)\n",
    "            rects.append({\"box\": (startX, startY, endX - startX, endY - startY), \n",
    "                          \"confidence\": confidence,\n",
    "                          \"name\": name})\n",
    "    return rects"
   ]
  },
  {
   "cell_type": "code",
   "execution_count": 67,
   "id": "46ecfdaf",
   "metadata": {},
   "outputs": [],
   "source": [
    "def main():\n",
    "    # 啟動WebCam\n",
    "    input_camera = int(input(\n",
    "        \"請輸入要開啟的攝影機(0代表第一台攝影機，1代表第二台攝影機，依此類推):\"\n",
    "    ))\n",
    "    vs = WebcamVideoStream(src=input_camera).start()\n",
    "    time.sleep(2.0)\n",
    "    start = time.time()\n",
    "    fps = vs.stream.get(cv2.CAP_PROP_FPS)\n",
    "    print(\"Frames per second using cv2.CAP_PROP_FPS : {0}\".format(fps))\n",
    "\n",
    "    while True:\n",
    "        # 取得當前的frame\n",
    "        frame = vs.read()\n",
    "\n",
    "        rects = detect(frame)\n",
    "\n",
    "        # loop所有預測結果\n",
    "        for rect in rects:\n",
    "            (x, y, w, h) = rect[\"box\"]\n",
    "            confidence = rect[\"confidence\"]\n",
    "            name = rect[\"name\"]\n",
    "\n",
    "            # 畫出邊界框\n",
    "            cv2.rectangle(frame, (x, y), (x + w, y + h), (0, 255, 0), 2)\n",
    "\n",
    "            # 畫出準確率\n",
    "            text = f\"{name}:{round(confidence * 100, 2)}%\"\n",
    "            y = y - 10 if y - 10 > 10 else y + 10\n",
    "            cv2.putText(frame, text, (x, y), cv2.FONT_HERSHEY_SIMPLEX, 0.45, (0, 0, 255), 2)\n",
    "\n",
    "        # 標示FPS\n",
    "        end = time.time()\n",
    "        cv2.putText(frame, f\"FPS: {str(int(1 / (end - start)))}\", (10, 30), cv2.FONT_HERSHEY_SIMPLEX, 0.7,\n",
    "                    (0, 0, 255), 2)\n",
    "        start = end\n",
    "\n",
    "        # 顯示影像\n",
    "        cv2.imshow(\"Frame\", frame)\n",
    "\n",
    "        # 判斷是否案下\"q\"；跳離迴圈\n",
    "        key = cv2.waitKey(1) & 0xff\n",
    "        if key == ord('q'):\n",
    "            break\n",
    "    vs.stop()\n",
    "    vs.stream.release()\n",
    "    cv2.destroyAllWindows()"
   ]
  },
  {
   "cell_type": "code",
   "execution_count": 68,
   "id": "a6528174",
   "metadata": {},
   "outputs": [
    {
     "name": "stdout",
     "output_type": "stream",
     "text": [
      "請輸入要開啟的攝影機(0代表第一台攝影機，1代表第二台攝影機，依此類推):0\n",
      "Frames per second using cv2.CAP_PROP_FPS : 30.0\n"
     ]
    }
   ],
   "source": [
    "if __name__ == '__main__':\n",
    "    main()"
   ]
  },
  {
   "cell_type": "code",
   "execution_count": null,
   "id": "17d2f99b",
   "metadata": {},
   "outputs": [],
   "source": []
  }
 ],
 "metadata": {
  "kernelspec": {
   "display_name": "Python 3",
   "language": "python",
   "name": "python3"
  },
  "language_info": {
   "codemirror_mode": {
    "name": "ipython",
    "version": 3
   },
   "file_extension": ".py",
   "mimetype": "text/x-python",
   "name": "python",
   "nbconvert_exporter": "python",
   "pygments_lexer": "ipython3",
   "version": "3.8.8"
  }
 },
 "nbformat": 4,
 "nbformat_minor": 5
}
