{
 "cells": [
  {
   "cell_type": "code",
   "execution_count": 1,
   "id": "2835aefa",
   "metadata": {},
   "outputs": [],
   "source": [
    "import numpy as np\n",
    "import imutils\n",
    "import pickle\n",
    "import cv2\n",
    "import os\n",
    "from pymongo import MongoClient\n",
    "from bson.objectid import ObjectId\n",
    "from nba_api.stats.static import players\n",
    "from nba_api.stats.endpoints import playergamelog\n",
    "import json"
   ]
  },
  {
   "cell_type": "code",
   "execution_count": 2,
   "id": "c96b6930",
   "metadata": {},
   "outputs": [],
   "source": [
    "conn = MongoClient(\"mongodb://localhost\")\n",
    "db = conn.NBAPlayerData\n",
    "collection = db.playerData"
   ]
  },
  {
   "cell_type": "code",
   "execution_count": 3,
   "id": "d6da0a32",
   "metadata": {},
   "outputs": [
    {
     "name": "stdout",
     "output_type": "stream",
     "text": [
      "[INFO] loading face detector...\n"
     ]
    }
   ],
   "source": [
    "print(\"[INFO] loading face detector...\")\n",
    "protoPath = os.path.sep.join([\"face_detection_model\", \"deploy.prototxt\"])\n",
    "modelPath = os.path.sep.join([\"face_detection_model\", \"res10_300x300_ssd_iter_140000.caffemodel\"])\n",
    "detector = cv2.dnn.readNetFromCaffe(protoPath, modelPath)"
   ]
  },
  {
   "cell_type": "code",
   "execution_count": 4,
   "id": "ea3c284b",
   "metadata": {},
   "outputs": [
    {
     "name": "stdout",
     "output_type": "stream",
     "text": [
      "[INFO] loading face recognizer...\n"
     ]
    }
   ],
   "source": [
    "print(\"[INFO] loading face recognizer...\")\n",
    "embedder = cv2.dnn.readNetFromTorch(\"openface_nn4.small2.v1.t7\")"
   ]
  },
  {
   "cell_type": "code",
   "execution_count": 5,
   "id": "64f56970",
   "metadata": {},
   "outputs": [
    {
     "data": {
      "text/plain": [
       "LabelEncoder()"
      ]
     },
     "execution_count": 5,
     "metadata": {},
     "output_type": "execute_result"
    }
   ],
   "source": [
    "recognizer = pickle.loads(open(\"output/recognizer.pickle\", \"rb\").read())\n",
    "le = pickle.loads(open(\"output/le.pickle\", \"rb\").read())\n",
    "le"
   ]
  },
  {
   "cell_type": "code",
   "execution_count": 6,
   "id": "aa6f91c6",
   "metadata": {},
   "outputs": [],
   "source": [
    "image = cv2.imread(\"LeBron.jpg\")\n",
    "image = imutils.resize(image, width=600)\n",
    "(h, w) = image.shape[:2]"
   ]
  },
  {
   "cell_type": "code",
   "execution_count": 7,
   "id": "7a0ed10c",
   "metadata": {},
   "outputs": [],
   "source": [
    "imageBlob = cv2.dnn.blobFromImage(\n",
    "    cv2.resize(image, (300, 300)), 1.0, (300, 300),\n",
    "    (104.0, 177.0, 123.0), swapRB=False, crop=False)"
   ]
  },
  {
   "cell_type": "code",
   "execution_count": 8,
   "id": "a537ec9f",
   "metadata": {},
   "outputs": [],
   "source": [
    "def putTextMongoDBData(images, headers, games, startX, y):\n",
    "    for i in range(3, 6):\n",
    "        dataInfo = json.dumps({headers[i]: games[0][i]})\n",
    "        if y == y:\n",
    "            cv2.putText(images, dataInfo, (startX+120, y),\n",
    "                        cv2.FONT_HERSHEY_SIMPLEX, 0.45, (0, 255, 0), 2)\n",
    "            y = y + 15"
   ]
  },
  {
   "cell_type": "code",
   "execution_count": 9,
   "id": "11a224ba",
   "metadata": {},
   "outputs": [],
   "source": [
    "def getMongoDBData(image):\n",
    "    for player in players.get_active_players():\n",
    "        if name in player['last_name']:\n",
    "            playergamelogs = playergamelog.PlayerGameLog(player['id']).get_dict()['resultSets'][0]\n",
    "            headers = playergamelogs['headers']\n",
    "            data = playergamelogs['rowSet']\n",
    "            games = [game for game in data]\n",
    "            putTextMongoDBData(image, headers, games, startX, y)\n",
    "            for j in range(len(games)):\n",
    "                for i in range(len(headers)):\n",
    "                    myplayer = {headers[i]:games[j][i]}\n",
    "                    cursor = collection.find(myplayer)\n",
    "                    data = [d for d in cursor] \n",
    "#                         print(data)"
   ]
  },
  {
   "cell_type": "code",
   "execution_count": 10,
   "id": "0138a44e",
   "metadata": {},
   "outputs": [
    {
     "name": "stdout",
     "output_type": "stream",
     "text": [
      "Show Image...\n"
     ]
    },
    {
     "data": {
      "text/plain": [
       "-1"
      ]
     },
     "execution_count": 10,
     "metadata": {},
     "output_type": "execute_result"
    }
   ],
   "source": [
    "detector.setInput(imageBlob)\n",
    "detections = detector.forward()\n",
    "\n",
    "for i in range(0, detections.shape[2]):\n",
    "    confidence = detections[0, 0, i, 2]\n",
    "    if confidence > 0.5:\n",
    "        box = detections[0, 0, i, 3:7] * np.array([w, h, w, h])\n",
    "        (startX, startY, endX, endY) = box.astype(\"int\")\n",
    "\n",
    "        face = image[startY:endY, startX:endX]\n",
    "        (fH, fW) = face.shape[:2]\n",
    "\n",
    "        if fW < 20 or fH < 20:\n",
    "            continue\n",
    "\n",
    "        faceBlob = cv2.dnn.blobFromImage(face, 1.0 / 255, (96, 96),\n",
    "            (0, 0, 0), swapRB=True, crop=False)\n",
    "        embedder.setInput(faceBlob)\n",
    "        vec = embedder.forward()\n",
    "\n",
    "        preds = recognizer.predict_proba(vec)[0]\n",
    "        j = np.argmax(preds)\n",
    "        proba = preds[j]\n",
    "        name = le.classes_[j]\n",
    "\n",
    "        text = \"{}: {:.2f}%\".format(name, confidence * 100)\n",
    "        y = startY - 10 if startY - 10 > 10 else startY + 10\n",
    "        cv2.rectangle(image, (startX, startY), (endX, endY),\n",
    "            (0, 255, 0), 2)\n",
    "        cv2.putText(image, text, (startX, y),\n",
    "            cv2.FONT_HERSHEY_SIMPLEX, 0.45, (0, 255, 0), 2)\n",
    "        getMongoDBData(image)\n",
    "\n",
    "print(\"Show Image...\")\n",
    "cv2.imshow(\"Image\", image)\n",
    "cv2.waitKey(0)"
   ]
  },
  {
   "cell_type": "code",
   "execution_count": null,
   "id": "242419d8",
   "metadata": {},
   "outputs": [],
   "source": []
  }
 ],
 "metadata": {
  "kernelspec": {
   "display_name": "Python 3",
   "language": "python",
   "name": "python3"
  },
  "language_info": {
   "codemirror_mode": {
    "name": "ipython",
    "version": 3
   },
   "file_extension": ".py",
   "mimetype": "text/x-python",
   "name": "python",
   "nbconvert_exporter": "python",
   "pygments_lexer": "ipython3",
   "version": "3.8.8"
  }
 },
 "nbformat": 4,
 "nbformat_minor": 5
}
