{
 "cells": [
  {
   "cell_type": "code",
   "execution_count": 10,
   "id": "087170f9",
   "metadata": {},
   "outputs": [],
   "source": [
    "from pymongo import MongoClient\n",
    "def delete_db(db_name=\"myNBA\"):\n",
    "    conn = MongoClient(\"mongodb://localhost\")\n",
    "    conn.drop_database(db_name)"
   ]
  },
  {
   "cell_type": "code",
   "execution_count": 11,
   "id": "942d4e4c",
   "metadata": {},
   "outputs": [],
   "source": [
    "delete_db(\"NBAPlayerData\")"
   ]
  },
  {
   "cell_type": "code",
   "execution_count": null,
   "id": "d980db50",
   "metadata": {},
   "outputs": [],
   "source": []
  }
 ],
 "metadata": {
  "kernelspec": {
   "display_name": "Python 3",
   "language": "python",
   "name": "python3"
  },
  "language_info": {
   "codemirror_mode": {
    "name": "ipython",
    "version": 3
   },
   "file_extension": ".py",
   "mimetype": "text/x-python",
   "name": "python",
   "nbconvert_exporter": "python",
   "pygments_lexer": "ipython3",
   "version": "3.8.8"
  }
 },
 "nbformat": 4,
 "nbformat_minor": 5
}
